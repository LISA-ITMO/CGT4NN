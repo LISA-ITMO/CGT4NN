{
 "cells": [
  {
   "cell_type": "markdown",
   "metadata": {},
   "source": [
    "# Методы исследования характеристических свойств нейронных сетей с применением теоретико-игрового подхода\n",
    "\n",
    "- **Теория**: И.В.Томилов ivan-tomilov3@yandex.ru\n",
    "- **Реализация**: М.А.Зайцева maria@tail-call.ru\n",
    "- **Поддержка CUDA**: А.Е.Григорьева admin@linkennt.ru\n",
    "- **Ревизия**: 8\n",
    "\n",
    "- **Другие ревизии**: [ссылка](https://disk.yandex.ru/d/aZozDpBlzh_z1A)\n",
    "<!-- please do not append text into this block -->"
   ]
  },
  {
   "cell_type": "markdown",
   "metadata": {},
   "source": [
    "- [ ] Добавить 2x больше эпох на датасетах, где был плохой перфоманс\n",
    "- [ ] Примешивать к целевой переменной на этапе обучения шум с амплитудой ~0,03 дисперсии\n",
    "- [ ] Третий пункт был связан со стабильными распределениями и варьированием ɑ от 1 до 2 — этот стабильный шум надо тоже к целевой переменной примешивать"
   ]
  },
  {
   "cell_type": "markdown",
   "metadata": {},
   "source": [
    "## Training\n",
    "\n",
    "`datasets[2]` takes ~2m 30s to train 10 iterations"
   ]
  },
  {
   "cell_type": "code",
   "execution_count": 1,
   "metadata": {},
   "outputs": [
    {
     "name": "stdout",
     "output_type": "stream",
     "text": [
      "N=9 #3 gTDS3 p=0.9 E9/10 S436 Loss=0.3003@AugmentedReLUNetwork\n",
      "create_and_train_model(): saved model to pth/cgtnn-3Y-AugmentedReLUNetwork-gTDS3-P0.9_N9.pth\n",
      "Report saved to pth/cgtnn-3Y-AugmentedReLUNetwork-gTDS3-P0.9_N9.json.\n"
     ]
    }
   ],
   "source": [
    "from cgtnnlib.constants import LEARNING_RATE, RANDOM_STATE\n",
    "import cgtnnlib.training as tr\n",
    "import cgtnnlib.datasets as ds\n",
    "from cgtnnlib.ExperimentParameters import ExperimentParameters\n",
    "from cgtnnlib.NoiseGenerator import target_dispersion_scaled_noise\n",
    "\n",
    "\n",
    "iterations = 10\n",
    "epochs = 10\n",
    "dataset = ds.datasets[2]\n",
    "p = 0.9\n",
    "for iteration in range(iterations):\n",
    "    experiment_params = ExperimentParameters(iteration, p=p)\n",
    "\n",
    "    tr.create_and_train_model(\n",
    "        dataset,\n",
    "        epochs,\n",
    "        learning_rate=LEARNING_RATE,\n",
    "        dry_run=False,\n",
    "        p=p,\n",
    "        iteration=iteration,\n",
    "        noise_generator=target_dispersion_scaled_noise(\n",
    "            dataset=dataset,\n",
    "            factor=0.03,\n",
    "            random_seed=RANDOM_STATE + 1,\n",
    "        )\n",
    "    )"
   ]
  },
  {
   "cell_type": "markdown",
   "metadata": {},
   "source": [
    "## Evaluation"
   ]
  },
  {
   "cell_type": "code",
   "execution_count": null,
   "metadata": {},
   "outputs": [],
   "source": []
  },
  {
   "cell_type": "markdown",
   "metadata": {},
   "source": []
  }
 ],
 "metadata": {
  "kernelspec": {
   "display_name": "3.12.3",
   "language": "python",
   "name": "python3"
  },
  "language_info": {
   "codemirror_mode": {
    "name": "ipython",
    "version": 3
   },
   "file_extension": ".py",
   "mimetype": "text/x-python",
   "name": "python",
   "nbconvert_exporter": "python",
   "pygments_lexer": "ipython3",
   "version": "3.12.3"
  }
 },
 "nbformat": 4,
 "nbformat_minor": 2
}
