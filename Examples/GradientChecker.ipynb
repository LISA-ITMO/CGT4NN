{
 "cells": [
  {
   "cell_type": "code",
   "execution_count": 1,
   "id": "39eb9f82",
   "metadata": {},
   "outputs": [],
   "source": [
    "# Go up\n",
    "\n",
    "import os\n",
    "\n",
    "os.chdir(\"..\")"
   ]
  },
  {
   "cell_type": "markdown",
   "metadata": {},
   "source": [
    "# Проверка градиента"
   ]
  },
  {
   "cell_type": "code",
   "execution_count": 2,
   "metadata": {},
   "outputs": [
    {
     "ename": "IndexError",
     "evalue": "The shape of the mask [6] at index 0 does not match the shape of the indexed tensor [2] at index 0",
     "output_type": "error",
     "traceback": [
      "\u001b[0;31m---------------------------------------------------------------------------\u001b[0m",
      "\u001b[0;31mIndexError\u001b[0m                                Traceback (most recent call last)",
      "Cell \u001b[0;32mIn[2], line 12\u001b[0m\n\u001b[1;32m      9\u001b[0m saved_tensors \u001b[38;5;241m=\u001b[39m (\u001b[38;5;28minput\u001b[39m, p)\n\u001b[1;32m     10\u001b[0m ctx \u001b[38;5;241m=\u001b[39m types\u001b[38;5;241m.\u001b[39mSimpleNamespace(saved_tensors\u001b[38;5;241m=\u001b[39msaved_tensors)\n\u001b[0;32m---> 12\u001b[0m \u001b[43mCustomReLUFunction\u001b[49m\u001b[38;5;241;43m.\u001b[39;49m\u001b[43mbackward\u001b[49m\u001b[43m(\u001b[49m\u001b[43mctx\u001b[49m\u001b[43m,\u001b[49m\u001b[43m \u001b[49m\u001b[43mgrad_output\u001b[49m\u001b[38;5;241;43m=\u001b[39;49m\u001b[43mtorch\u001b[49m\u001b[38;5;241;43m.\u001b[39;49m\u001b[43mtensor\u001b[49m\u001b[43m(\u001b[49m\u001b[43m[\u001b[49m\u001b[38;5;241;43m7\u001b[39;49m\u001b[43m,\u001b[49m\u001b[43m \u001b[49m\u001b[38;5;241;43m8\u001b[39;49m\u001b[43m]\u001b[49m\u001b[43m)\u001b[49m\u001b[43m)\u001b[49m\n",
      "File \u001b[0;32m~/Developer/MachineLearning/CGT4NN/cgtnnlib/nn/CustomReLUFunction.py:70\u001b[0m, in \u001b[0;36mCustomReLUFunction.backward\u001b[0;34m(ctx, grad_output)\u001b[0m\n\u001b[1;32m     67\u001b[0m grad_input \u001b[38;5;241m=\u001b[39m grad_output\u001b[38;5;241m.\u001b[39mclone()\n\u001b[1;32m     69\u001b[0m \u001b[38;5;66;03m# Standard ReLU\u001b[39;00m\n\u001b[0;32m---> 70\u001b[0m \u001b[43mgrad_input\u001b[49m\u001b[43m[\u001b[49m\u001b[38;5;28;43minput\u001b[39;49m\u001b[43m \u001b[49m\u001b[38;5;241;43m<\u001b[39;49m\u001b[38;5;241;43m=\u001b[39;49m\u001b[43m \u001b[49m\u001b[38;5;241;43m0\u001b[39;49m\u001b[43m]\u001b[49m \u001b[38;5;241m=\u001b[39m \u001b[38;5;241m0\u001b[39m\n\u001b[1;32m     71\u001b[0m pprint(\u001b[38;5;124m\"\u001b[39m\u001b[38;5;124m>>> grad_input[input <= 0] = 0\u001b[39m\u001b[38;5;124m\"\u001b[39m)\n\u001b[1;32m     72\u001b[0m pprint(\u001b[38;5;124m\"\u001b[39m\u001b[38;5;124m>>> grad_input\u001b[39m\u001b[38;5;124m\"\u001b[39m)\n",
      "\u001b[0;31mIndexError\u001b[0m: The shape of the mask [6] at index 0 does not match the shape of the indexed tensor [2] at index 0"
     ]
    }
   ],
   "source": [
    "import torch\n",
    "import types\n",
    "\n",
    "from cgtnnlib.nn.CustomReLUFunction import CustomReLUFunction\n",
    "\n",
    "\n",
    "p = torch.tensor(0.5)\n",
    "input = torch.tensor([1, 2, 3, 4, 5, 6])\n",
    "saved_tensors = (input, p)\n",
    "ctx = types.SimpleNamespace(saved_tensors=saved_tensors)\n",
    "\n",
    "CustomReLUFunction.backward(ctx, grad_output=torch.tensor([7, 8]))"
   ]
  },
  {
   "cell_type": "code",
   "execution_count": null,
   "metadata": {},
   "outputs": [],
   "source": []
  }
 ],
 "metadata": {
  "kernelspec": {
   "display_name": "3.12.3",
   "language": "python",
   "name": "python3"
  },
  "language_info": {
   "codemirror_mode": {
    "name": "ipython",
    "version": 3
   },
   "file_extension": ".py",
   "mimetype": "text/x-python",
   "name": "python",
   "nbconvert_exporter": "python",
   "pygments_lexer": "ipython3",
   "version": "3.12.3"
  }
 },
 "nbformat": 4,
 "nbformat_minor": 2
}
