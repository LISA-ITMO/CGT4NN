{
 "cells": [
  {
   "cell_type": "markdown",
   "metadata": {},
   "source": [
    "# Методы исследования характеристических свойств нейронных сетей с применением теоретико-игрового подхода\n",
    "\n",
    "- **Теория**: И.В.Томилов ivan-tomilov3@yandex.ru\n",
    "- **Реализация**: М.А.Зайцева maria@tail-call.ru\n",
    "- **Поддержка CUDA**: А.Е.Григорьева admin@linkennt.ru\n",
    "- **Ревизия**: 8\n",
    "\n",
    "- **Другие ревизии**: [ссылка](https://disk.yandex.ru/d/aZozDpBlzh_z1A)\n",
    "<!-- please do not append text into this block -->"
   ]
  },
  {
   "cell_type": "markdown",
   "metadata": {},
   "source": [
    "- [ ] Добавить 2x больше эпох на датасетах, где был плохой перфоманс\n",
    "- [ ] Примешивать к целевой переменной на этапе обучения шум с амплитудой ~0,03 дисперсии\n",
    "- [ ] Третий пункт был связан со стабильными распределениями и варьированием ɑ от 1 до 2 — этот стабильный шум надо тоже к целевой переменной примешивать"
   ]
  },
  {
   "cell_type": "markdown",
   "metadata": {},
   "source": [
    "## Setup"
   ]
  },
  {
   "cell_type": "code",
   "execution_count": 1,
   "metadata": {},
   "outputs": [
    {
     "name": "stdout",
     "output_type": "stream",
     "text": [
      "TORCH_DEVICE is cpu\n",
      "target_dispersion_scaled_noise(Dataset #3 {\n",
      "  name: \"StudentPerformanceFactors\"\n",
      "  learning_task: LearningTask(name='regression', criterion=MSELoss(), dtype=torch.float32)\n",
      "  classes_count: 1\n",
      "  target: \"Exam_Score\"\n",
      "  _data: DatasetData(df=      Hours_Studied  Attendance  Parental_Involvement  Access_to_Resources  \\\n",
      "0                23          84                    -1                    1   \n",
      "1                19          64                    -1                    0   \n",
      "2                24          98                     0                    0   \n",
      "3                29          89                    -1                    0   \n",
      "4                19          92                     0                    0   \n",
      "...             ...         ...                   ...                  ...   \n",
      "6602             25          69                     1                    0   \n",
      "6603             23          76                     1                    0   \n",
      "6604             20          90                     0                   -1   \n",
      "6605             10          86                     1                    1   \n",
      "6606             15          67                     0                   -1   \n",
      "\n",
      "      Extracurricular_Activities  Sleep_Hours  Previous_Scores  \\\n",
      "0                             -1            7               73   \n",
      "1                             -1            8               59   \n",
      "2                              1            7               91   \n",
      "3                              1            8               98   \n",
      "4                              1            6               65   \n",
      "...                          ...          ...              ...   \n",
      "6602                          -1            7               76   \n",
      "6603                          -1            8               81   \n",
      "6604                           1            6               65   \n",
      "6605                           1            6               91   \n",
      "6606                           1            9               94   \n",
      "\n",
      "      Motivation_Level  Internet_Access  Tutoring_Sessions  Family_Income  \\\n",
      "0                   -1                1                  0             -1   \n",
      "1                   -1                1                  2              0   \n",
      "2                    0                1                  2              0   \n",
      "3                    0                1                  1              0   \n",
      "4                    0                1                  3              0   \n",
      "...                ...              ...                ...            ...   \n",
      "6602                 0                1                  1              1   \n",
      "6603                 0                1                  3             -1   \n",
      "6604                -1                1                  3             -1   \n",
      "6605                 1                1                  2             -1   \n",
      "6606                 0                1                  0              0   \n",
      "\n",
      "      Teacher_Quality  School_Type  Peer_Influence  Physical_Activity  \\\n",
      "0                   0            1               1                  3   \n",
      "1                   0            1              -1                  4   \n",
      "2                   0            1               0                  4   \n",
      "3                   0            1              -1                  4   \n",
      "4                   1            1               0                  4   \n",
      "...               ...          ...             ...                ...   \n",
      "6602                0            1               1                  2   \n",
      "6603                1            1               1                  2   \n",
      "6604                0            1              -1                  2   \n",
      "6605                0           -1               1                  3   \n",
      "6606                0            1               1                  4   \n",
      "\n",
      "      Learning_Disabilities  Parental_Education_Level  Distance_from_Home  \\\n",
      "0                        -1                       1.0                 1.0   \n",
      "1                        -1                       2.0                 0.0   \n",
      "2                        -1                       3.0                 1.0   \n",
      "3                        -1                       1.0                 0.0   \n",
      "4                        -1                       2.0                 1.0   \n",
      "...                     ...                       ...                 ...   \n",
      "6602                     -1                       1.0                 1.0   \n",
      "6603                     -1                       1.0                 1.0   \n",
      "6604                     -1                       3.0                 1.0   \n",
      "6605                     -1                       1.0                -1.0   \n",
      "6606                     -1                       3.0                 1.0   \n",
      "\n",
      "      Gender  Exam_Score  \n",
      "0         -1          67  \n",
      "1          1          61  \n",
      "2         -1          74  \n",
      "3         -1          71  \n",
      "4          1          70  \n",
      "...      ...         ...  \n",
      "6602       1          68  \n",
      "6603       1          69  \n",
      "6604       1          68  \n",
      "6605       1          68  \n",
      "6606      -1          64  \n",
      "\n",
      "[6529 rows x 20 columns], train_dataset=<torch.utils.data.dataset.TensorDataset object at 0x191aba000>, test_dataset=<torch.utils.data.dataset.TensorDataset object at 0x19396aa50>, train_loader=<torch.utils.data.dataloader.DataLoader object at 0x1927dfda0>, test_loader=<torch.utils.data.dataloader.DataLoader object at 0x192745220>)\n",
      "}, factor=0.03, random_seed=23433)\n"
     ]
    }
   ],
   "source": [
    "from cgtnnlib.constants import LEARNING_RATE, RANDOM_STATE\n",
    "import cgtnnlib.training as tr\n",
    "import cgtnnlib.datasets as ds\n",
    "from cgtnnlib.ExperimentParameters import ExperimentParameters\n",
    "from cgtnnlib.NoiseGenerator import target_dispersion_scaled_noise\n",
    "\n",
    "\n",
    "iterations = 10\n",
    "epochs = 10\n",
    "dataset = ds.datasets[2]\n",
    "noise_generator = target_dispersion_scaled_noise(\n",
    "    dataset=dataset,\n",
    "    factor=0.03,\n",
    "    random_seed=RANDOM_STATE + 1,\n",
    ")\n",
    "p = 0.9\n"
   ]
  },
  {
   "cell_type": "markdown",
   "metadata": {},
   "source": [
    "## Training\n",
    "\n",
    "`datasets[2]` takes ~2m 30s to train 10 iterations"
   ]
  },
  {
   "cell_type": "code",
   "execution_count": null,
   "metadata": {},
   "outputs": [],
   "source": [
    "\n",
    "for iteration in range(iterations):\n",
    "    experiment_params = ExperimentParameters(iteration, p=p)\n",
    "\n",
    "    tr.create_and_train_model(\n",
    "        dataset,\n",
    "        epochs,\n",
    "        learning_rate=LEARNING_RATE,\n",
    "        dry_run=False,\n",
    "        p=p,\n",
    "        iteration=iteration,\n",
    "        noise_generator=noise_generator\n",
    "    )"
   ]
  },
  {
   "cell_type": "markdown",
   "metadata": {},
   "source": [
    "## Evaluation"
   ]
  },
  {
   "cell_type": "code",
   "execution_count": 2,
   "metadata": {},
   "outputs": [
    {
     "name": "stdout",
     "output_type": "stream",
     "text": [
      "Evaluating model at pth/cgtnn-3Y-AugmentedReLUNetwork-gTDS3-P0.9_N9.pth...\n",
      "Report saved to pth/cgtnn-3Y-AugmentedReLUNetwork-gTDS3-P0.9_N9.json.\n"
     ]
    }
   ],
   "source": [
    "\n",
    "from cgtnnlib.EvaluationParameters import EvaluationParameters\n",
    "from cgtnnlib.Report import Report\n",
    "from cgtnnlib.constants import LEARNING_RATE, RANDOM_STATE\n",
    "from cgtnnlib.nn.AugmentedReLUNetwork import AugmentedReLUNetwork\n",
    "import cgtnnlib.evaluate as ev\n",
    "import cgtnnlib.datasets as ds\n",
    "import cgtnnlib.path as ph\n",
    "from cgtnnlib.ExperimentParameters import ExperimentParameters\n",
    "from cgtnnlib.NoiseGenerator import target_dispersion_scaled_noise\n",
    "\n",
    "\n",
    "iterations = 10\n",
    "epochs = 10\n",
    "dataset = ds.datasets[2]\n",
    "p = 0.9\n",
    "for iteration in range(iterations):\n",
    "    experiment_params = ExperimentParameters(iteration, p=p)\n",
    "    \n",
    "    eval_params = EvaluationParameters(\n",
    "        dataset=dataset,\n",
    "        model_path=ph.model_path(\n",
    "            dataset_number=dataset.number,\n",
    "            model_type=AugmentedReLUNetwork,\n",
    "            p=p,\n",
    "            iteration=iteration,\n",
    "            noise_generator=noise_generator,\n",
    "        ),\n",
    "        experiment_parameters=experiment_params,\n",
    "        report_key=ph.eval_report_key(\n",
    "            model_name=AugmentedReLUNetwork.__name__,\n",
    "            dataset_number=dataset.number,\n",
    "            p=p,\n",
    "            iteration=iteration,\n",
    "        )\n",
    "    )\n",
    "    \n",
    "    report_name = ph.model_name(\n",
    "        dataset_number=dataset.number,\n",
    "        model_type=AugmentedReLUNetwork,\n",
    "        p=p,\n",
    "        iteration=iteration,\n",
    "        noise_generator=noise_generator\n",
    "    )\n",
    "    report = Report(\n",
    "        dir='pth/',\n",
    "        filename=report_name + '.json',\n",
    "        must_exist=True,\n",
    "    )\n",
    "    \n",
    "    ev.eval_inner(\n",
    "        eval_params=eval_params,\n",
    "        constructor=AugmentedReLUNetwork,\n",
    "        report=report\n",
    "    )\n",
    "    \n",
    "    report.save()\n",
    "\n",
    "    # tr.create_and_train_model(\n",
    "    #     dataset,\n",
    "    #     epochs,\n",
    "    #     learning_rate=LEARNING_RATE,\n",
    "    #     dry_run=False,\n",
    "    #     p=p,\n",
    "    #     iteration=iteration,\n",
    "    #     noise_generator=target_dispersion_scaled_noise(\n",
    "    #         dataset=dataset,\n",
    "    #         factor=0.03,\n",
    "    #         random_seed=RANDOM_STATE + 1,\n",
    "    #     )\n",
    "    # )"
   ]
  },
  {
   "cell_type": "markdown",
   "metadata": {},
   "source": [
    "## Analysis"
   ]
  },
  {
   "cell_type": "code",
   "execution_count": null,
   "metadata": {},
   "outputs": [],
   "source": []
  },
  {
   "cell_type": "markdown",
   "metadata": {},
   "source": []
  }
 ],
 "metadata": {
  "kernelspec": {
   "display_name": "3.12.3",
   "language": "python",
   "name": "python3"
  },
  "language_info": {
   "codemirror_mode": {
    "name": "ipython",
    "version": 3
   },
   "file_extension": ".py",
   "mimetype": "text/x-python",
   "name": "python",
   "nbconvert_exporter": "python",
   "pygments_lexer": "ipython3",
   "version": "3.12.3"
  }
 },
 "nbformat": 4,
 "nbformat_minor": 2
}
