{
 "cells": [
  {
   "cell_type": "markdown",
   "metadata": {},
   "source": [
    "# datasets.py playground"
   ]
  },
  {
   "cell_type": "code",
   "execution_count": 1,
   "metadata": {},
   "outputs": [],
   "source": [
    "import os\n",
    "import sys\n",
    "\n",
    "# To make imports work\n",
    "parent_dir = os.path.abspath('..')\n",
    "sys.path.insert(0, parent_dir)\n",
    "\n",
    "# Execute at project's top-level\n",
    "os.chdir('..')\n"
   ]
  },
  {
   "cell_type": "code",
   "execution_count": 4,
   "metadata": {},
   "outputs": [
    {
     "data": {
      "text/plain": [
       "[Dataset(number=1, name='wisc_bc_data', learning_task=LearningTask(name='classification', criterion=CrossEntropyLoss(), dtype=torch.int64), classes_count=2, target='diagnosis', data_maker=<function breast_cancer at 0x150a67420>, _data=None),\n",
       " Dataset(number=2, name='car_evaluation', learning_task=LearningTask(name='classification', criterion=CrossEntropyLoss(), dtype=torch.int64), classes_count=4, target='class', data_maker=<function car_evaluation at 0x150a679c0>, _data=None),\n",
       " Dataset(number=3, name='StudentPerformanceFactors', learning_task=LearningTask(name='regression', criterion=MSELoss(), dtype=torch.float32), classes_count=1, target='Exam_Score', data_maker=<function student_performance_factors at 0x150a67a60>, _data=None),\n",
       " Dataset(number=4, name='allhyper', learning_task=LearningTask(name='regression', criterion=MSELoss(), dtype=torch.float32), classes_count=1, target='target', data_maker=<function <lambda> at 0x150a67b00>, _data=None),\n",
       " Dataset(number=5, name='eye_movements', learning_task=LearningTask(name='classification', criterion=CrossEntropyLoss(), dtype=torch.int64), classes_count=2, target='label', data_maker=<function <lambda> at 0x150a67ba0>, _data=None),\n",
       " Dataset(number=6, name='wine_quality', learning_task=LearningTask(name='regression', criterion=MSELoss(), dtype=torch.float32), classes_count=1, target='quality', data_maker=<function <lambda> at 0x150a67c40>, _data=None),\n",
       " Dataset(number=7, name='Hill_Valley_with_noise', learning_task=LearningTask(name='classification', criterion=CrossEntropyLoss(), dtype=torch.int64), classes_count=2, target='target', data_maker=<function <lambda> at 0x150a67ce0>, _data=None),\n",
       " Dataset(number=8, name='Hill_Valley_without_noise', learning_task=LearningTask(name='classification', criterion=CrossEntropyLoss(), dtype=torch.int64), classes_count=2, target='target', data_maker=<function <lambda> at 0x150a67d80>, _data=None)]"
      ]
     },
     "execution_count": 4,
     "metadata": {},
     "output_type": "execute_result"
    }
   ],
   "source": [
    "import cgtnnlib.datasets as cd\n",
    "\n",
    "# cd.breast_cancer_dataset(test_size=44, random_state=99)[0].tensors\n",
    "# cd.car_evaluation_dataset(test_size=44, random_state=99)[0].tensors\n",
    "cd.datasets"
   ]
  },
  {
   "cell_type": "code",
   "execution_count": 8,
   "metadata": {},
   "outputs": [
    {
     "data": {
      "text/plain": [
       "DatasetData(train_dataset=<torch.utils.data.dataset.TensorDataset object at 0x14fd49790>, test_dataset=<torch.utils.data.dataset.TensorDataset object at 0x150bdc800>, train_loader=<torch.utils.data.dataloader.DataLoader object at 0x14fdbef00>, test_loader=<torch.utils.data.dataloader.DataLoader object at 0x14fdbc9b0>)"
      ]
     },
     "execution_count": 8,
     "metadata": {},
     "output_type": "execute_result"
    }
   ],
   "source": [
    "cd.datasets[2].data"
   ]
  },
  {
   "cell_type": "markdown",
   "metadata": {},
   "source": []
  }
 ],
 "metadata": {
  "kernelspec": {
   "display_name": "3.12.3",
   "language": "python",
   "name": "python3"
  },
  "language_info": {
   "codemirror_mode": {
    "name": "ipython",
    "version": 3
   },
   "file_extension": ".py",
   "mimetype": "text/x-python",
   "name": "python",
   "nbconvert_exporter": "python",
   "pygments_lexer": "ipython3",
   "version": "3.12.3"
  }
 },
 "nbformat": 4,
 "nbformat_minor": 2
}
